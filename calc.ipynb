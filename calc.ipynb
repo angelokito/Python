{
 "metadata": {
  "language_info": {
   "codemirror_mode": {
    "name": "ipython",
    "version": 3
   },
   "file_extension": ".py",
   "mimetype": "text/x-python",
   "name": "python",
   "nbconvert_exporter": "python",
   "pygments_lexer": "ipython3",
   "version": "3.8.3-final"
  },
  "orig_nbformat": 2,
  "kernelspec": {
   "name": "Python 3.8.3 64-bit ('kitoc': virtualenv)",
   "display_name": "Python 3.8.3 64-bit ('kitoc': virtualenv)",
   "metadata": {
    "interpreter": {
     "hash": "2114de21a15544f5c9f569dfdac29102a7dc47f4bf52d8777f0e5e449c315b57"
    }
   }
  }
 },
 "nbformat": 4,
 "nbformat_minor": 2,
 "cells": [
  {
   "cell_type": "code",
   "execution_count": 1,
   "metadata": {
    "tags": []
   },
   "outputs": [
    {
     "output_type": "stream",
     "name": "stdout",
     "text": "Resultado:  55\n"
    }
   ],
   "source": [
    "soma = lambda n1,n2:n1 + n2\n",
    "div = lambda n1,n2:n1 / n2\n",
    "minn = lambda n1,n2:n1 - n2\n",
    "mul = lambda n1,n2:n1 * n2\n",
    "op_escolha = input(\"Operação matemática:(1-Adição/2-Subtração/3-Divisão/4-Multiplicação))\")\n",
    "\n",
    "n1 = int(input(\"Primeiro número\"))\n",
    "n2 = int(input(\"segundo número\"))\n",
    "if op_escolha == '1':\n",
    "    print(\"Resultado: \",int(soma(n1,n2)))\n",
    "elif op_escolha == '2':\n",
    "    print(\"Resultado: \",int(minn(n1,n2)))\n",
    "elif op_escolha == '3':\n",
    "    print(\"Resultado \",int(div(n1,n2)))\n",
    "elif op_escolha == '4':\n",
    "    print(\"Resultado: \",int(mul(n1,n2)))\n",
    "else:\n",
    "    print('Escolha não disponivel')"
   ]
  },
  {
   "cell_type": "code",
   "execution_count": null,
   "metadata": {},
   "outputs": [],
   "source": []
  }
 ]
}