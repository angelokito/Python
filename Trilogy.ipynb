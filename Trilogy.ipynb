{
 "cells": [
  {
   "cell_type": "code",
   "execution_count": 6,
   "metadata": {},
   "outputs": [
    {
     "name": "stdout",
     "output_type": "stream",
     "text": [
      "{'X-Bacon vegano': 1, 'X-Bacon tradicional': 2, 'X-Eggs-duplo': 3, 'X-Milho': 4}\n"
     ]
    }
   ],
   "source": [
    "lista_lanches = {\"X-Bacon vegano\": 1, \"X-Bacon tradicional\" : 2, \"X-Eggs-duplo\": 3, \"X-Milho\":4}\n",
    "print(lista_lanches)\n",
    "\n",
    "\n"
   ]
  },
  {
   "cell_type": "code",
   "execution_count": 8,
   "metadata": {},
   "outputs": [],
   "source": [
    "lista_lanchesL = [lista_lanches]\n",
    "\n"
   ]
  },
  {
   "cell_type": "code",
   "execution_count": 9,
   "metadata": {},
   "outputs": [
    {
     "data": {
      "text/plain": [
       "[{'X-Bacon vegano': 1,\n",
       "  'X-Bacon tradicional': 2,\n",
       "  'X-Eggs-duplo': 3,\n",
       "  'X-Milho': 4}]"
      ]
     },
     "execution_count": 9,
     "metadata": {},
     "output_type": "execute_result"
    }
   ],
   "source": [
    "lista_lanchesL"
   ]
  },
  {
   "cell_type": "code",
   "execution_count": 12,
   "metadata": {},
   "outputs": [
    {
     "name": "stdout",
     "output_type": "stream",
     "text": [
      "[{'X-Bacon vegano': 1, 'X-Bacon tradicional': 2, 'X-Eggs-duplo': 3, 'X-Milho': 4}]\n"
     ]
    }
   ],
   "source": [
    "lista_lanchesL[0]\n",
    "print(lista_lanchesL)\n",
    "\n"
   ]
  },
  {
   "cell_type": "code",
   "execution_count": 14,
   "metadata": {},
   "outputs": [
    {
     "data": {
      "text/plain": [
       "4"
      ]
     },
     "execution_count": 14,
     "metadata": {},
     "output_type": "execute_result"
    }
   ],
   "source": [
    "len(lista_lanches)"
   ]
  },
  {
   "cell_type": "code",
   "execution_count": 1,
   "metadata": {},
   "outputs": [
    {
     "data": {
      "text/plain": [
       "0.5"
      ]
     },
     "execution_count": 1,
     "metadata": {},
     "output_type": "execute_result"
    }
   ],
   "source": [
    "x = 1/2\n",
    "x\n"
   ]
  },
  {
   "cell_type": "code",
   "execution_count": 3,
   "metadata": {},
   "outputs": [
    {
     "data": {
      "text/plain": [
       "'ta Science Academy'"
      ]
     },
     "execution_count": 3,
     "metadata": {},
     "output_type": "execute_result"
    }
   ],
   "source": [
    " x = 'Data Science Academy'\n",
    " x[2:]"
   ]
  },
  {
   "cell_type": "code",
   "execution_count": 53,
   "metadata": {},
   "outputs": [
    {
     "name": "stdout",
     "output_type": "stream",
     "text": [
      "Your name: Angelo Antonio Afonso Lopes\n",
      "Password: 4256\n",
      "Your age:36\n",
      "Cadastro criado com sucesso 'Angelo Antonio Afonso Lopes' com ID: 4256, Sua idade é 36\n"
     ]
    }
   ],
   "source": [
    "nomeCli = input('Your name: ')\n",
    "idCli = input('Password: ')\n",
    "idade =  input('Your age:')\n",
    "\n",
    "if  idade  <='17' or idCli =='0':\n",
    "\n",
    "    print('Não foi possivel o cadastro, por favor tente novamente')\n",
    "    \n",
    "else:\n",
    "    print('Cadastro criado com sucesso %r com ID: %s, Sua idade é %s' %(nomeCli, idCli, idade))\n",
    "    \n"
   ]
  },
  {
   "cell_type": "code",
   "execution_count": 55,
   "metadata": {},
   "outputs": [],
   "source": [
    " mercado = ['arroz','feijão','ovos','batata','verdurs','sabão em pó']"
   ]
  },
  {
   "cell_type": "code",
   "execution_count": 58,
   "metadata": {},
   "outputs": [
    {
     "name": "stdout",
     "output_type": "stream",
     "text": [
      "['arroz', 'feijão', 'ovos', 'batata', 'verdurs', 'sabão em pó']\n",
      "['arroz', 'feijão', 'ovos', 'batata', 'verdurs', 'sabão em pó']\n",
      "['arroz', 'feijão', 'ovos', 'batata', 'verdurs', 'sabão em pó']\n",
      "['arroz', 'feijão', 'ovos', 'batata', 'verdurs', 'sabão em pó']\n",
      "['arroz', 'feijão', 'ovos', 'batata', 'verdurs', 'sabão em pó']\n",
      "['arroz', 'feijão', 'ovos', 'batata', 'verdurs', 'sabão em pó']\n"
     ]
    }
   ],
   "source": [
    "for i in mercado:\n",
    "    print(mercado)"
   ]
  },
  {
   "cell_type": "code",
   "execution_count": 59,
   "metadata": {},
   "outputs": [
    {
     "data": {
      "text/plain": [
       "'arroz'"
      ]
     },
     "execution_count": 59,
     "metadata": {},
     "output_type": "execute_result"
    }
   ],
   "source": [
    "x = mercado [0]\n",
    "x"
   ]
  },
  {
   "cell_type": "code",
   "execution_count": 61,
   "metadata": {},
   "outputs": [
    {
     "data": {
      "text/plain": [
       "'batata'"
      ]
     },
     "execution_count": 61,
     "metadata": {},
     "output_type": "execute_result"
    }
   ],
   "source": [
    "y = mercado[3]\n",
    "y"
   ]
  },
  {
   "cell_type": "code",
   "execution_count": 63,
   "metadata": {},
   "outputs": [
    {
     "name": "stdout",
     "output_type": "stream",
     "text": [
      "E\n",
      "u\n",
      " \n",
      "s\n",
      "e\n",
      "r\n",
      "e\n",
      "i\n",
      " \n",
      "u\n",
      "m\n",
      " \n",
      "c\n",
      "i\n",
      "ê\n",
      "n\n",
      "t\n",
      "i\n",
      "s\n",
      "t\n",
      "a\n",
      " \n",
      "d\n",
      "e\n",
      " \n",
      "d\n",
      "a\n",
      "d\n",
      "o\n",
      "s\n",
      "?\n"
     ]
    }
   ],
   "source": [
    "for caracter in 'Eu serei um ciêntista de dados?':\n",
    "    print(caracter)"
   ]
  },
  {
   "cell_type": "code",
   "execution_count": 64,
   "metadata": {},
   "outputs": [
    {
     "name": "stdout",
     "output_type": "stream",
     "text": [
      "0\n",
      "1\n",
      "2\n",
      "3\n",
      "4\n",
      "0\n",
      "1\n",
      "2\n",
      "3\n",
      "4\n",
      "0\n",
      "1\n",
      "2\n",
      "3\n",
      "4\n",
      "0\n",
      "1\n",
      "2\n",
      "3\n",
      "4\n",
      "0\n",
      "1\n",
      "2\n",
      "3\n",
      "4\n"
     ]
    }
   ],
   "source": [
    "for i in range(0,5):\n",
    "    for a in range(0,5):\n",
    "        print(a)"
   ]
  },
  {
   "cell_type": "code",
   "execution_count": 20,
   "metadata": {},
   "outputs": [
    {
     "name": "stdout",
     "output_type": "stream",
     "text": [
      "BUCHA SUSPENSÃO\n",
      "dict_values([89, 199, 250])\n",
      "1\n",
      "KIT PIVOS\n",
      "dict_values([89, 199, 250])\n",
      "2\n",
      "BORRACHAS PARABRISA\n",
      "dict_values([89, 199, 250])\n",
      "3\n"
     ]
    }
   ],
   "source": [
    "produto = {'Bucha suspensão': 89, 'kit pivos':199, 'Borrachas parabrisa':250}\n",
    "soma = 0\n",
    "for i in produto: \n",
    "    soma += 1\n",
    "    print(i.upper()) \n",
    "    print(produto.values())\n",
    "    print(soma)\n",
    "    "
   ]
  },
  {
   "cell_type": "code",
   "execution_count": 27,
   "metadata": {},
   "outputs": [
    {
     "name": "stdout",
     "output_type": "stream",
     "text": [
      "A Lista [[1, 2, 3, 4], [5, 6, 7, 8], [9, 10], [11, 12, 13]] boa noite \n",
      "Numero de colunas 1 \n",
      "A Lista [[1, 2, 3, 4], [5, 6, 7, 8], [9, 10], [11, 12, 13]] boa noite \n",
      "Numero de colunas 2 \n",
      "A Lista [[1, 2, 3, 4], [5, 6, 7, 8], [9, 10], [11, 12, 13]] boa noite \n",
      "Numero de colunas 3 \n",
      "A Lista [[1, 2, 3, 4], [5, 6, 7, 8], [9, 10], [11, 12, 13]] boa noite \n",
      "Numero de colunas 4 \n"
     ]
    }
   ],
   "source": [
    "lst = [[1,2,3,4],[5,6,7,8],[9,10],[11,12,13]]\n",
    "count = 0\n",
    "for col in l1:\n",
    "    count = count +1\n",
    "    print('A Lista %s boa noite '%(lst))\n",
    "    print ('Numero de colunas %r '%(count))"
   ]
  },
  {
   "cell_type": "code",
   "execution_count": 29,
   "metadata": {},
   "outputs": [
    {
     "name": "stdout",
     "output_type": "stream",
     "text": [
      "Numero encontrado na lista!\n"
     ]
    }
   ],
   "source": [
    "listac = {5,6,7,8,9,10,'Opala 80'}\n",
    "for item in listac:\n",
    "    if item ==5:\n",
    "        print('Numero encontrado na lista!')"
   ]
  },
  {
   "cell_type": "code",
   "execution_count": 30,
   "metadata": {},
   "outputs": [
    {
     "name": "stdout",
     "output_type": "stream",
     "text": [
      "('k1', 'Python')\n",
      "('k2', 'R')\n",
      "('k3', 'Scala')\n"
     ]
    }
   ],
   "source": [
    "dict = {'k1': 'Python','k2':'R','k3': 'Scala'}\n",
    "for item in dict.items():\n",
    "    print(item)"
   ]
  },
  {
   "cell_type": "code",
   "execution_count": 31,
   "metadata": {},
   "outputs": [
    {
     "name": "stdout",
     "output_type": "stream",
     "text": [
      "k1 Python\n",
      "k2 R\n",
      "k3 Scala\n"
     ]
    }
   ],
   "source": [
    "for k,v in dict.items():\n",
    "    print(k,v)"
   ]
  },
  {
   "cell_type": "code",
   "execution_count": 33,
   "metadata": {},
   "outputs": [
    {
     "name": "stdout",
     "output_type": "stream",
     "text": [
      "0\n",
      "1\n",
      "2\n",
      "3\n",
      "4\n",
      "5\n",
      "6\n",
      "7\n",
      "8\n",
      "9\n",
      "10\n"
     ]
    }
   ],
   "source": [
    "counter = 0\n",
    "while counter <= 10:\n",
    "    print(counter)\n",
    "    counter = counter + 1"
   ]
  },
  {
   "cell_type": "code",
   "execution_count": 40,
   "metadata": {},
   "outputs": [
    {
     "name": "stdout",
     "output_type": "stream",
     "text": [
      "O valor de x nesta iteração é: 0\n",
      " x ainda é menor que 10, somando 1 a x \n",
      "O valor de x nesta iteração é: 1\n",
      " x ainda é menor que 10, somando 1 a x \n",
      "O valor de x nesta iteração é: 2\n",
      " x ainda é menor que 10, somando 1 a x \n",
      "O valor de x nesta iteração é: 3\n",
      " x ainda é menor que 10, somando 1 a x \n",
      "O valor de x nesta iteração é: 4\n",
      " x ainda é menor que 10, somando 1 a x \n",
      "O valor de x nesta iteração é: 5\n",
      " x ainda é menor que 10, somando 1 a x \n",
      "O valor de x nesta iteração é: 6\n",
      " x ainda é menor que 10, somando 1 a x \n",
      "O valor de x nesta iteração é: 7\n",
      " x ainda é menor que 10, somando 1 a x \n",
      "O valor de x nesta iteração é: 8\n",
      " x ainda é menor que 10, somando 1 a x \n",
      "O valor de x nesta iteração é: 9\n",
      " x ainda é menor que 10, somando 1 a x \n",
      "Loop concluido \n"
     ]
    }
   ],
   "source": [
    "x = 0\n",
    "\n",
    "while x <10:\n",
    "    print('O valor de x nesta iteração é:', x)\n",
    "    print(' x ainda é menor que 10, somando 1 a x ')\n",
    "    x += 1\n",
    "else:\n",
    "    print('Loop concluido ')    "
   ]
  },
  {
   "cell_type": "code",
   "execution_count": 50,
   "metadata": {},
   "outputs": [
    {
     "name": "stdout",
     "output_type": "stream",
     "text": [
      "0\n",
      "1\n",
      "2\n",
      "3\n"
     ]
    }
   ],
   "source": [
    "cou = 0 \n",
    "while cou < 100:\n",
    "    if cou == 4:\n",
    "        break\n",
    "    else:\n",
    "        pass\n",
    "    print(cou)\n",
    "    cou = cou + 1"
   ]
  },
  {
   "cell_type": "code",
   "execution_count": 52,
   "metadata": {},
   "outputs": [
    {
     "name": "stdout",
     "output_type": "stream",
     "text": [
      "P\n",
      "y\n",
      "t\n",
      "o\n",
      "n\n"
     ]
    }
   ],
   "source": [
    "for veri in \"Python\":# pular letra h\n",
    "    if veri == \"h\": \n",
    "        continue\n",
    "    print(veri)"
   ]
  },
  {
   "cell_type": "code",
   "execution_count": 2,
   "metadata": {},
   "outputs": [
    {
     "name": "stdout",
     "output_type": "stream",
     "text": [
      "2 Numero primo\n",
      "3 Numero primo\n",
      "5 Numero primo\n",
      "7 Numero primo\n",
      "11 Numero primo\n",
      "13 Numero primo\n",
      "17 Numero primo\n",
      "19 Numero primo\n",
      "23 Numero primo\n",
      "29 Numero primo\n",
      "31 Numero primo\n",
      "37 Numero primo\n",
      "41 Numero primo\n",
      "43 Numero primo\n",
      "47 Numero primo\n"
     ]
    }
   ],
   "source": [
    "for i in range(2,50): # While e for juntos\n",
    "    j = 2\n",
    "    count = 0\n",
    "    while j < i:\n",
    "        if i %j == 0:\n",
    "            count = 1\n",
    "        j = j + 1\n",
    "        \n",
    "    if  count == 0: \n",
    "        print(str(i) + ' Numero primo')\n",
    "        count = 0\n",
    "    else:\n",
    "        count = 0"
   ]
  },
  {
   "cell_type": "code",
   "execution_count": 59,
   "metadata": {},
   "outputs": [
    {
     "name": "stdout",
     "output_type": "stream",
     "text": [
      "0\n",
      "2\n",
      "4\n",
      "6\n",
      "8\n",
      "10\n",
      "12\n",
      "14\n",
      "16\n",
      "18\n",
      "20\n",
      "22\n",
      "24\n",
      "26\n",
      "28\n",
      "30\n",
      "32\n",
      "34\n",
      "36\n",
      "38\n",
      "40\n",
      "42\n",
      "44\n",
      "46\n",
      "48\n"
     ]
    }
   ],
   "source": [
    "for i in range(0,50,2):\n",
    "    print(i)"
   ]
  },
  {
   "cell_type": "code",
   "execution_count": 60,
   "metadata": {},
   "outputs": [
    {
     "name": "stdout",
     "output_type": "stream",
     "text": [
      "3\n",
      "4\n",
      "5\n"
     ]
    }
   ],
   "source": [
    "for i in range (3,6):\n",
    "    print(i)"
   ]
  },
  {
   "cell_type": "code",
   "execution_count": 61,
   "metadata": {},
   "outputs": [
    {
     "name": "stdout",
     "output_type": "stream",
     "text": [
      "0\n",
      "-2\n",
      "-4\n",
      "-6\n",
      "-8\n",
      "-10\n",
      "-12\n",
      "-14\n",
      "-16\n",
      "-18\n"
     ]
    }
   ],
   "source": [
    "for i in range(0, -20, -2):\n",
    "    print(i)"
   ]
  },
  {
   "cell_type": "code",
   "execution_count": 68,
   "metadata": {},
   "outputs": [
    {
     "name": "stdout",
     "output_type": "stream",
     "text": [
      "morango\n",
      "banana\n",
      "abacaxi\n",
      "uva\n"
     ]
    }
   ],
   "source": [
    "lista  =['morango', 'banana', 'abacaxi', 'uva']\n",
    "lt = len(lista)\n",
    "for i in range (0, lt):\n",
    "    print(lista[i])"
   ]
  },
  {
   "cell_type": "code",
   "execution_count": 69,
   "metadata": {},
   "outputs": [
    {
     "data": {
      "text/plain": [
       "range"
      ]
     },
     "execution_count": 69,
     "metadata": {},
     "output_type": "execute_result"
    }
   ],
   "source": [
    "type(range(0,3))"
   ]
  },
  {
   "cell_type": "code",
   "execution_count": 76,
   "metadata": {},
   "outputs": [
    {
     "name": "stdout",
     "output_type": "stream",
     "text": [
      "Digite o dia da semana:Sabado\n",
      "Chegou o momento de relaxar e ficar de boas, namorar minha Ninja linda e jogar Silent Hill com ela!\n"
     ]
    }
   ],
   "source": [
    "diad = input ('Digite o dia da semana:')\n",
    "if diad =='Sabado' or diad == 'Domingo':\n",
    "    print(\"Chegou o momento de relaxar e ficar de boas, namorar minha Ninja linda e jogar Silent Hill com ela!\")\n",
    "else:\n",
    "    print ('É semana! Trabajar, estudar e estudar e estudaR e fazer exercicios')"
   ]
  },
  {
   "cell_type": "code",
   "execution_count": 4,
   "metadata": {},
   "outputs": [
    {
     "ename": "NameError",
     "evalue": "name 'printVarInfo' is not defined",
     "output_type": "error",
     "traceback": [
      "\u001b[1;31m---------------------------------------------------------------------------\u001b[0m",
      "\u001b[1;31mNameError\u001b[0m                                 Traceback (most recent call last)",
      "\u001b[1;32m<ipython-input-4-1f9b0b67e291>\u001b[0m in \u001b[0;36m<module>\u001b[1;34m\u001b[0m\n\u001b[1;32m----> 1\u001b[1;33m \u001b[0mprintVarInfo\u001b[0m\u001b[1;33m(\u001b[0m\u001b[1;33m)\u001b[0m\u001b[1;33m\u001b[0m\u001b[1;33m\u001b[0m\u001b[0m\n\u001b[0m",
      "\u001b[1;31mNameError\u001b[0m: name 'printVarInfo' is not defined"
     ]
    }
   ],
   "source": [
    "\n",
    "    \n"
   ]
  },
  {
   "cell_type": "code",
   "execution_count": null,
   "metadata": {},
   "outputs": [],
   "source": []
  },
  {
   "cell_type": "code",
   "execution_count": null,
   "metadata": {},
   "outputs": [],
   "source": []
  },
  {
   "cell_type": "code",
   "execution_count": null,
   "metadata": {},
   "outputs": [],
   "source": []
  },
  {
   "cell_type": "code",
   "execution_count": null,
   "metadata": {},
   "outputs": [],
   "source": []
  },
  {
   "cell_type": "code",
   "execution_count": null,
   "metadata": {},
   "outputs": [],
   "source": []
  }
 ],
 "metadata": {
  "kernelspec": {
   "display_name": "Python 3",
   "language": "python",
   "name": "python3"
  },
  "language_info": {
   "codemirror_mode": {
    "name": "ipython",
    "version": 3
   },
   "file_extension": ".py",
   "mimetype": "text/x-python",
   "name": "python",
   "nbconvert_exporter": "python",
   "pygments_lexer": "ipython3",
   "version": "3.8.3"
  }
 },
 "nbformat": 4,
 "nbformat_minor": 4
}
